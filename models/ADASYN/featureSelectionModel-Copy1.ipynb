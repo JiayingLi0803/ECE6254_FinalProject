{
 "cells": [
  {
   "cell_type": "code",
   "execution_count": 1,
   "id": "d0ebe697-b0cb-448c-8a68-40c35415cd92",
   "metadata": {},
   "outputs": [],
   "source": [
    "import pandas as pd\n",
    "import numpy as np\n",
    "import os\n",
    "from os import listdir\n",
    "from os.path import isfile, join\n",
    "\n",
    "# Machile learning algorithms from sklearn\n",
    "from sklearn.model_selection import train_test_split, KFold, cross_val_score, GridSearchCV\n",
    "from sklearn.metrics import accuracy_score, confusion_matrix, classification_report, plot_roc_curve\n",
    "from sklearn.preprocessing import  MinMaxScaler \n",
    "from sklearn.preprocessing import LabelEncoder, OneHotEncoder\n",
    "import random\n",
    "from sklearn.metrics import f1_score\n",
    "\n",
    "from sklearn.svm import SVC\n",
    "from sklearn.neighbors import KNeighborsClassifier\n",
    "from sklearn.naive_bayes import MultinomialNB\n",
    "from sklearn.linear_model import SGDClassifier\n",
    "from sklearn.linear_model import LogisticRegression\n",
    "from sklearn.ensemble import RandomForestClassifier, RandomForestRegressor\n",
    "from sklearn.feature_selection import RFECV\n",
    "\n",
    "# from xgboost import XGBClassifier\n",
    "\n",
    "import matplotlib.pyplot as plt\n",
    "import pandas as pd\n",
    "import numpy as np\n",
    "import seaborn as sns\n",
    "sns.set(style=\"darkgrid\")\n",
    "\n",
    "np.random.seed(1234)\n",
    "\n",
    "import warnings\n",
    "warnings.filterwarnings('ignore')\n",
    "# warnings.filterwarnings(action='once')"
   ]
  },
  {
   "cell_type": "code",
   "execution_count": 2,
   "id": "8a812f37-c73f-4906-b174-e3bb760c7f80",
   "metadata": {},
   "outputs": [],
   "source": [
    "trainigRootPath = \"../../Feature_Slection(20features)/ADASYN/Training Data\"\n",
    "trainingFiles = [join(trainigRootPath, f) for f in listdir(trainigRootPath) if isfile(join(trainigRootPath, f))]\n",
    "trainingFiles.remove(trainigRootPath+\"/.DS_Store\")"
   ]
  },
  {
   "cell_type": "code",
   "execution_count": 4,
   "id": "bc59afa5-7109-4abe-af40-cee34a030525",
   "metadata": {},
   "outputs": [],
   "source": [
    "df = pd.concat(map(pd.read_csv, trainingFiles),ignore_index=True)"
   ]
  },
  {
   "cell_type": "code",
   "execution_count": 5,
   "id": "a3dd65bf-0229-421b-ac25-f1640a7f6767",
   "metadata": {},
   "outputs": [],
   "source": [
    "y = df.Label\n",
    "# Label encoding the classes \n",
    "encoder = LabelEncoder()\n",
    "y = encoder.fit_transform(y)\n",
    "X = df[df.columns[:-1]]"
   ]
  },
  {
   "cell_type": "code",
   "execution_count": 6,
   "id": "4dd2ffce-3312-468d-8fd7-02502cce5eb8",
   "metadata": {},
   "outputs": [
    {
     "data": {
      "text/plain": [
       "{0: 'BENIGN',\n",
       " 1: 'BotnetARES',\n",
       " 2: 'BruteForce',\n",
       " 3: 'DoS',\n",
       " 4: 'Infiltration',\n",
       " 5: 'PortScan',\n",
       " 6: 'WebAttack'}"
      ]
     },
     "execution_count": 6,
     "metadata": {},
     "output_type": "execute_result"
    }
   ],
   "source": [
    "classDict = dict(zip(np.unique(y), list(encoder.classes_)))\n",
    "classDict"
   ]
  },
  {
   "cell_type": "code",
   "execution_count": 7,
   "id": "82e6c746-4e3d-4e44-b6c1-ef33d715ed81",
   "metadata": {},
   "outputs": [],
   "source": [
    "def prediction(X_train, X_test, y_train, y_test):\n",
    "    \n",
    "    prediction_f1 = {}\n",
    "    \n",
    "    # Support Vector Machine\n",
    "    _SVC = SVC(C = 0.4, kernel = 'rbf', gamma='auto')\n",
    "    _SVC.fit(X_train, y_train)\n",
    "    _SVC_prediction = _SVC.predict(X_test)\n",
    "    prediction_f1['Support Vector Machine'] = round(f1_score(y_test, _SVC_prediction, average='micro'), 2)\n",
    "    \n",
    "    # KNeighbors Classifier\n",
    "    _KNeighbors_classifier = KNeighborsClassifier(n_neighbors=int(len(X_train)/5))\n",
    "    _KNeighbors_classifier.fit(X_train, y_train)\n",
    "    _KNeighbors_classifier = _KNeighbors_classifier.predict(X_test)\n",
    "    prediction_f1['KNeighbors Classifier'] = round(f1_score(y_test, _KNeighbors_classifier, average='micro'), 2)\n",
    "    \n",
    "    # Logistic Regression - Classifier\n",
    "    _Logistic = LogisticRegression(multi_class='ovr', solver='liblinear')\n",
    "    _Logistic.fit(X_train, y_train)\n",
    "    _Logistic_prediction = _Logistic.predict(X_test)\n",
    "    prediction_f1['Logistic Classifier'] = round(f1_score(y_test, _Logistic_prediction, average='micro'), 2)\n",
    "    \n",
    "    # Random Forest Classifier\n",
    "    _RandomForestClassifier = RandomForestClassifier(n_estimators = 1000, min_samples_split = 15, random_state = 42)\n",
    "    _RandomForestClassifier.fit(X_train, y_train)\n",
    "    _RandomForestClassifier_prediction = _RandomForestClassifier.predict(X_test)\n",
    "    prediction_f1['Random Forest'] = round(f1_score(y_test, _RandomForestClassifier_prediction, average='micro'), 2)\n",
    "    \n",
    "    # # Xgboost\n",
    "    # _Xgboost = XGBClassifier()\n",
    "    # _Xgboost.fit(X_train, y_train)\n",
    "    # _Xgboost_prediction = _Xgboost.predict(X_val)\n",
    "    # prediction_accuracy['Xgboost'] = round(f1_score(y_test, _Xgboost_prediction, average='micro'), 2)\n",
    "    \n",
    "    #accuracy DataFram\n",
    "    prediction_accuracy_df = pd.DataFrame(prediction_f1.items(), columns=['Classifier', 'f1'], index=None)\n",
    "    return prediction_accuracy_df\n"
   ]
  },
  {
   "cell_type": "code",
   "execution_count": 8,
   "id": "b082d119-c61b-4abd-a036-f79b72923ba5",
   "metadata": {},
   "outputs": [],
   "source": [
    "def accuracy_plot(a, title):\n",
    "    fig, (ax1)  = plt.subplots(1, 1, figsize=(8,4))\n",
    "    fig.suptitle(title)\n",
    "    ax1.barh(np.arange(len(list(a.Classifier))), list(a.f1), color='#488cfa', height=0.9)\n",
    "    for i in list(a.f1):\n",
    "        ax1.text(i + 1, list(a.f1).index(i) , i,fontsize=12)\n",
    "#     ax1.set_title( \"NLKT stopwatch vocabulary Approach.\")\n",
    "    ax1.set_yticks(np.arange(len(list(a.Classifier))))\n",
    "    ax1.set_yticklabels(list(a.Classifier))\n",
    "    ax1.set_xlim((0, 1))\n",
    "    ax1.set_xlabel(\"f1\", fontsize=15)\n",
    "    ax1.grid(False)\n",
    "    ax1.set_ylabel(\"Models\", fontsize=15)"
   ]
  },
  {
   "cell_type": "code",
   "execution_count": null,
   "id": "6621bc80-d1e0-4ca5-95b6-2caaa472c693",
   "metadata": {},
   "outputs": [],
   "source": [
    "from sklearn.model_selection import train_test_split\n",
    "X_train, X_test, y_train, y_test = train_test_split(X, y, test_size=0.3, random_state=42)"
   ]
  },
  {
   "cell_type": "code",
   "execution_count": null,
   "id": "cd6e5e0f-6758-41d0-9257-cfaf3276d224",
   "metadata": {},
   "outputs": [],
   "source": [
    "p_df = prediction(X_train, X_test, y_train, y_test) # Returns DataFrame"
   ]
  },
  {
   "cell_type": "code",
   "execution_count": null,
   "id": "309412ad-a7c8-4d9f-b4ec-c835dca1a146",
   "metadata": {},
   "outputs": [],
   "source": []
  },
  {
   "cell_type": "code",
   "execution_count": null,
   "id": "7cf1cdf1-fc45-40f4-b7c6-f2aaef5e0a07",
   "metadata": {},
   "outputs": [],
   "source": []
  }
 ],
 "metadata": {
  "kernelspec": {
   "display_name": "Python 3 (ipykernel)",
   "language": "python",
   "name": "python3"
  },
  "language_info": {
   "codemirror_mode": {
    "name": "ipython",
    "version": 3
   },
   "file_extension": ".py",
   "mimetype": "text/x-python",
   "name": "python",
   "nbconvert_exporter": "python",
   "pygments_lexer": "ipython3",
   "version": "3.9.12"
  }
 },
 "nbformat": 4,
 "nbformat_minor": 5
}
