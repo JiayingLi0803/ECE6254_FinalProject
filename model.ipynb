{
 "cells": [
  {
   "cell_type": "code",
   "execution_count": 23,
   "id": "63c47fa4-c9fe-439d-989b-5afc7b482655",
   "metadata": {},
   "outputs": [],
   "source": [
    "import pandas as pd\n",
    "import numpy as np\n",
    "import os\n",
    "from os import listdir\n",
    "from os.path import isfile, join\n",
    "\n",
    "# Machile learning algorithms from sklearn\n",
    "from sklearn.model_selection import train_test_split, KFold, cross_val_score, GridSearchCV\n",
    "from sklearn.metrics import accuracy_score, confusion_matrix, classification_report, plot_roc_curve\n",
    "from sklearn.preprocessing import  MinMaxScaler \n",
    "\n",
    "from sklearn.svm import SVC\n",
    "from sklearn.naive_bayes import MultinomialNB\n",
    "from sklearn.linear_model import SGDClassifier\n",
    "from sklearn.linear_model import LogisticRegression\n",
    "from sklearn.ensemble import RandomForestClassifier, RandomForestRegressor\n",
    "from sklearn.feature_selection import RFECV\n",
    "\n",
    "from xgboost import XGBClassifier\n",
    "\n",
    "import matplotlib.pyplot as plt\n",
    "import pandas as pd\n",
    "import numpy as np\n",
    "import seaborn as sns\n",
    "sns.set(style=\"darkgrid\")\n",
    "\n",
    "import warnings\n",
    "warnings.filterwarnings('ignore')\n",
    "# warnings.filterwarnings(action='once')"
   ]
  },
  {
   "cell_type": "code",
   "execution_count": 2,
   "id": "b8ba3286-5328-424c-b745-6b9c0abc876c",
   "metadata": {},
   "outputs": [],
   "source": [
    "#Read dataset\n",
    "df = pd.concat(\n",
    "    map(pd.read_csv, [r'./Updated Data/Benign_1.csv',\n",
    "                      r'./Updated Data/Benign_2.csv',\n",
    "                      r'./Updated Data/Benign_3.csv',\n",
    "                      r'./Updated Data/Benign_4.csv',\n",
    "                      r'./Updated Data/Botnet_ARES.csv',\n",
    "                      r'./Updated Data/Brute_Force.csv',\n",
    "                      r'./Updated Data/Dos_DDos.csv',\n",
    "                      r'./Updated Data/Infiltration.csv',\n",
    "                      r'./Updated Data/PortScan.csv',\n",
    "                      r'./Updated Data/Web_Attack.csv']),\n",
    "    ignore_index=True)"
   ]
  },
  {
   "cell_type": "markdown",
   "id": "02df2030-d359-4243-a52a-115ff2c12008",
   "metadata": {},
   "source": [
    "### Defining Benign label as 0 and attack as 1"
   ]
  },
  {
   "cell_type": "code",
   "execution_count": 3,
   "id": "3b5bd0ca-9014-4699-8764-dd6e2df6f86d",
   "metadata": {},
   "outputs": [],
   "source": [
    "df['Label'] = df['Label'].apply(lambda x: 0 if x == 'BENIGN' else 1)\n",
    "y = df['Label'].values"
   ]
  },
  {
   "cell_type": "code",
   "execution_count": 11,
   "id": "ec2f1969-98b0-441b-b697-c7a5521bedbb",
   "metadata": {},
   "outputs": [],
   "source": [
    "X = df[df.columns[:-1]]"
   ]
  },
  {
   "cell_type": "code",
   "execution_count": 17,
   "id": "4873a96c-91d3-4738-9a66-e0a870a8ac80",
   "metadata": {},
   "outputs": [],
   "source": [
    "def prediction(X_train, X_test, y_train, y_test):\n",
    "    \n",
    "    prediction_f1 = {}\n",
    "    \n",
    "    # KNeighbors Classifier\n",
    "    _KNeighbors_classifier = KNeighborsClassifier(n_neighbors=X_train/5)\n",
    "    _KNeighbors_classifier.fit(X_train, y_train)\n",
    "    _KNeighbors_classifier = _KNeighbors_classifier.predict(X_test)\n",
    "    prediction_f1['KNeighbors Classifier'] = round(f1_score(y_test, _KNeighbors_classifier, average='micro'), 2)\n",
    "    \n",
    "    # Logistic Regression - Classifier\n",
    "    _Logistic = LogisticRegression(multi_class='ovr', solver='liblinear')\n",
    "    _Logistic.fit(X_train, y_train)\n",
    "    _Logistic_prediction = _Logistic.predict(X_test)\n",
    "    prediction_f1['Logistic Classifier'] = round(f1_score(y_test, _Logistic_prediction, average='micro'), 2)\n",
    "    \n",
    "    # Random Forest Classifier\n",
    "    _RandomForestClassifier = RandomForestClassifier(n_estimators = 1000, min_samples_split = 15, random_state = 42)\n",
    "    _RandomForestClassifier.fit(X_train, y_train)\n",
    "    _RandomForestClassifier_prediction = _RandomForestClassifier.predict(X_test)\n",
    "    prediction_f1['Random Forest'] = round(f1_score(y_test, _RandomForestClassifier_prediction, average='micro'), 2)\n",
    "    \n",
    "    # Support Vector Machine\n",
    "    _SVC = SVC(C = 0.4, kernel = 'linear', gamma='auto')\n",
    "    _SVC.fit(X_train, y_train)\n",
    "    _SVC_prediction = _SVC.predict(X_test)\n",
    "    prediction_f1['Support Vector Machine'] = round(f1_score(y_test, _SVC_prediction, average='micro'), 2)\n",
    "    \n",
    "    # Xgboost\n",
    "    _Xgboost = XGBClassifier()\n",
    "    _Xgboost.fit(X_train, y_train)\n",
    "    _Xgboost_prediction = _Xgboost.predict(X_val)\n",
    "    prediction_accuracy['Xgboost'] = round(f1_score(y_test, _Xgboost_prediction, average='micro'), 2)\n",
    "    \n",
    "    #accuracy DataFram\n",
    "    prediction_accuracy_df = pd.DataFrame(prediction_f1.items(), columns=['Classifier', 'f1'], index=None)\n",
    "    return prediction_accuracy_df\n"
   ]
  },
  {
   "cell_type": "code",
   "execution_count": 19,
   "id": "0e4cf3ee-0f93-412d-ac70-22195c4f1569",
   "metadata": {},
   "outputs": [],
   "source": [
    "def accuracy_plot(a, title):\n",
    "    fig, (ax1)  = plt.subplots(1, 1, figsize=(8,4))\n",
    "    fig.suptitle(title)\n",
    "    ax1.barh(np.arange(len(list(a.Classifier))), list(a.Accuracy), color='#488cfa', height=0.9)\n",
    "    for i in list(a.Accuracy):\n",
    "        ax1.text(i + 1, list(a.Accuracy).index(i) , i,fontsize=12)\n",
    "#     ax1.set_title( \"NLKT stopwatch vocabulary Approach.\")\n",
    "    ax1.set_yticks(np.arange(len(list(a.Classifier))))\n",
    "    ax1.set_yticklabels(list(a.Classifier))\n",
    "    ax1.set_xlim((0, 100))\n",
    "    ax1.set_xlabel(\"Accuracy %\", fontsize=15)\n",
    "    ax1.grid(False)\n",
    "    ax1.set_ylabel(\"Models\", fontsize=15)"
   ]
  },
  {
   "cell_type": "code",
   "execution_count": 20,
   "id": "ed082643-df74-4ac9-9567-89e80bdaac4a",
   "metadata": {},
   "outputs": [],
   "source": [
    "from sklearn.model_selection import train_test_split\n",
    "X_train, X_test, y_train, y_test = train_test_split(X, y, test_size=0.3, random_state=42)"
   ]
  },
  {
   "cell_type": "code",
   "execution_count": null,
   "id": "e38171e5-5fc8-413d-a14a-8f0a15ff64d3",
   "metadata": {},
   "outputs": [],
   "source": [
    "p_df = prediction(X_train, X_test, y_train, y_test) # Returns DataFrame"
   ]
  },
  {
   "cell_type": "code",
   "execution_count": null,
   "id": "e17e5031-5e3c-4757-bdc1-950bd9758d33",
   "metadata": {},
   "outputs": [],
   "source": [
    "accuracy_plot(p_df, \"F1 score of raw data.\\n\")"
   ]
  }
 ],
 "metadata": {
  "kernelspec": {
   "display_name": "Python 3 (ipykernel)",
   "language": "python",
   "name": "python3"
  },
  "language_info": {
   "codemirror_mode": {
    "name": "ipython",
    "version": 3
   },
   "file_extension": ".py",
   "mimetype": "text/x-python",
   "name": "python",
   "nbconvert_exporter": "python",
   "pygments_lexer": "ipython3",
   "version": "3.9.12"
  }
 },
 "nbformat": 4,
 "nbformat_minor": 5
}
