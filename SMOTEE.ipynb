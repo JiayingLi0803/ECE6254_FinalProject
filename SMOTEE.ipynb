{
 "cells": [
  {
   "cell_type": "code",
   "execution_count": 1,
   "id": "4eaa65d9",
   "metadata": {},
   "outputs": [],
   "source": [
    "import warnings\n",
    "warnings.filterwarnings(\"ignore\")"
   ]
  },
  {
   "cell_type": "code",
   "execution_count": 2,
   "id": "fa594111",
   "metadata": {},
   "outputs": [],
   "source": [
    "import numpy as np\n",
    "import pandas as pd\n",
    "import seaborn as sns\n",
    "import matplotlib.pyplot as plt\n",
    "from sklearn.preprocessing import LabelEncoder \n",
    "from sklearn.model_selection import train_test_split\n",
    "from sklearn.metrics import classification_report,confusion_matrix,accuracy_score,precision_recall_fscore_support\n",
    "from sklearn.metrics import f1_score\n",
    "from sklearn.ensemble import RandomForestClassifier,ExtraTreesClassifier\n",
    "from sklearn.tree import DecisionTreeClassifier\n",
    "import xgboost as xgb\n",
    "from xgboost import plot_importance"
   ]
  },
  {
   "cell_type": "code",
   "execution_count": 3,
   "id": "002aac3f",
   "metadata": {},
   "outputs": [],
   "source": [
    "#Read dataset\n",
    "df = pd.concat(\n",
    "     #map(pd.read_csv, [r'C:\\Users\\engaa\\OneDrive - Georgia Institute of Technology\\Desktop\\Fall2022\\Machine Learning\\Projects\\Final Project\\Data Sets\\MachineLearningCVE\\Updated Data\\Infiltration.csv',r'C:\\Users\\engaa\\OneDrive - Georgia Institute of Technology\\Desktop\\Fall2022\\Machine Learning\\Projects\\Final Project\\Data Sets\\MachineLearningCVE\\Updated Data\\Botnet_ARES.csv']), ignore_index=True)\n",
    "    map(pd.read_csv, [r'C:\\Users\\engaa\\OneDrive - Georgia Institute of Technology\\Desktop\\Fall2022\\Machine Learning\\Projects\\Final Project\\Data Sets\\MachineLearningCVE\\Updated Data\\Benign_1.csv',\n",
    "                      r'C:\\Users\\engaa\\OneDrive - Georgia Institute of Technology\\Desktop\\Fall2022\\Machine Learning\\Projects\\Final Project\\Data Sets\\MachineLearningCVE\\Updated Data\\Benign_2.csv',\n",
    "                      r'C:\\Users\\engaa\\OneDrive - Georgia Institute of Technology\\Desktop\\Fall2022\\Machine Learning\\Projects\\Final Project\\Data Sets\\MachineLearningCVE\\Updated Data\\Benign_3.csv',\n",
    "                      r'C:\\Users\\engaa\\OneDrive - Georgia Institute of Technology\\Desktop\\Fall2022\\Machine Learning\\Projects\\Final Project\\Data Sets\\MachineLearningCVE\\Updated Data\\Benign_4.csv',\n",
    "                      r'C:\\Users\\engaa\\OneDrive - Georgia Institute of Technology\\Desktop\\Fall2022\\Machine Learning\\Projects\\Final Project\\Data Sets\\MachineLearningCVE\\Updated Data\\Botnet_ARES.csv',\n",
    "                      r'C:\\Users\\engaa\\OneDrive - Georgia Institute of Technology\\Desktop\\Fall2022\\Machine Learning\\Projects\\Final Project\\Data Sets\\MachineLearningCVE\\Updated Data\\Brute_Force.csv',\n",
    "                      r'C:\\Users\\engaa\\OneDrive - Georgia Institute of Technology\\Desktop\\Fall2022\\Machine Learning\\Projects\\Final Project\\Data Sets\\MachineLearningCVE\\Updated Data\\Dos_DDos.csv',\n",
    "                      r'C:\\Users\\engaa\\OneDrive - Georgia Institute of Technology\\Desktop\\Fall2022\\Machine Learning\\Projects\\Final Project\\Data Sets\\MachineLearningCVE\\Updated Data\\Infiltration.csv',\n",
    "                      r'C:\\Users\\engaa\\OneDrive - Georgia Institute of Technology\\Desktop\\Fall2022\\Machine Learning\\Projects\\Final Project\\Data Sets\\MachineLearningCVE\\Updated Data\\PortScan.csv',\n",
    "                      r'C:\\Users\\engaa\\OneDrive - Georgia Institute of Technology\\Desktop\\Fall2022\\Machine Learning\\Projects\\Final Project\\Data Sets\\MachineLearningCVE\\Updated Data\\Web_Attack.csv']),\n",
    "    ignore_index=True)"
   ]
  },
  {
   "cell_type": "code",
   "execution_count": 4,
   "id": "db7e1386",
   "metadata": {},
   "outputs": [
    {
     "data": {
      "text/plain": [
       "BENIGN          2271352\n",
       "DoS              379750\n",
       "PortScan         158804\n",
       "BruteForce        13832\n",
       "WebAttack          2180\n",
       "BotnetARES         1956\n",
       "Infiltration         36\n",
       "Name: Label, dtype: int64"
      ]
     },
     "execution_count": 4,
     "metadata": {},
     "output_type": "execute_result"
    }
   ],
   "source": [
    "df['Label'].value_counts()"
   ]
  },
  {
   "cell_type": "code",
   "execution_count": 5,
   "id": "029e3987",
   "metadata": {},
   "outputs": [],
   "source": [
    "labelencoder = LabelEncoder()\n",
    "df.iloc[:, -1] = labelencoder.fit_transform(df.iloc[:, -1])\n",
    "X = df.drop(['Label'],axis=1).values \n",
    "y = df.iloc[:, -1].values.reshape(-1,1)\n",
    "y=np.ravel(y)\n",
    "X_train, X_test, y_train, y_test = train_test_split(X,y, train_size = 0.8, test_size = 0.2, random_state = 0,stratify = y)"
   ]
  },
  {
   "cell_type": "code",
   "execution_count": 6,
   "id": "2770ff6c",
   "metadata": {},
   "outputs": [
    {
     "data": {
      "text/plain": [
       "(2262328, 78)"
      ]
     },
     "execution_count": 6,
     "metadata": {},
     "output_type": "execute_result"
    }
   ],
   "source": [
    "X_train.shape"
   ]
  },
  {
   "cell_type": "code",
   "execution_count": 7,
   "id": "7bfd8ded",
   "metadata": {},
   "outputs": [
    {
     "data": {
      "text/plain": [
       "(565582, 78)"
      ]
     },
     "execution_count": 7,
     "metadata": {},
     "output_type": "execute_result"
    }
   ],
   "source": [
    "X_test.shape"
   ]
  },
  {
   "cell_type": "code",
   "execution_count": 8,
   "id": "00bd4946",
   "metadata": {},
   "outputs": [
    {
     "data": {
      "text/plain": [
       "0    1817082\n",
       "3     303800\n",
       "5     127043\n",
       "2      11065\n",
       "6       1744\n",
       "1       1565\n",
       "4         29\n",
       "dtype: int64"
      ]
     },
     "execution_count": 8,
     "metadata": {},
     "output_type": "execute_result"
    }
   ],
   "source": [
    "pd.Series(y_train).value_counts()"
   ]
  },
  {
   "cell_type": "code",
   "execution_count": 9,
   "id": "928c7ed0",
   "metadata": {},
   "outputs": [
    {
     "data": {
      "text/plain": [
       "0    454270\n",
       "3     75950\n",
       "5     31761\n",
       "2      2767\n",
       "6       436\n",
       "1       391\n",
       "4         7\n",
       "dtype: int64"
      ]
     },
     "execution_count": 9,
     "metadata": {},
     "output_type": "execute_result"
    }
   ],
   "source": [
    "pd.Series(y_test).value_counts()"
   ]
  },
  {
   "cell_type": "code",
   "execution_count": 10,
   "id": "877a1448",
   "metadata": {},
   "outputs": [],
   "source": [
    "from imblearn.over_sampling import SMOTE\n",
    "smote=SMOTE(n_jobs=-1,sampling_strategy={1:1817082,2:1817082,3:1817082,4:1817082,5:1817082,6:1817082}) # Create 1817082 samples for the minority classes"
   ]
  },
  {
   "cell_type": "code",
   "execution_count": null,
   "id": "00f3c104",
   "metadata": {},
   "outputs": [],
   "source": [
    "X_train, y_train = smote.fit_resample(X_train, y_train)"
   ]
  },
  {
   "cell_type": "code",
   "execution_count": 27,
   "id": "bc845966",
   "metadata": {},
   "outputs": [
    {
     "data": {
      "text/plain": [
       "0    1817082\n",
       "3    1817082\n",
       "2    1817082\n",
       "5    1817082\n",
       "1    1817082\n",
       "6    1817082\n",
       "4    1817082\n",
       "dtype: int64"
      ]
     },
     "execution_count": 27,
     "metadata": {},
     "output_type": "execute_result"
    }
   ],
   "source": [
    "pd.Series(y_train).value_counts()"
   ]
  },
  {
   "cell_type": "code",
   "execution_count": null,
   "id": "d1ae04de",
   "metadata": {},
   "outputs": [],
   "source": []
  },
  {
   "cell_type": "code",
   "execution_count": null,
   "id": "bb2678aa",
   "metadata": {},
   "outputs": [],
   "source": []
  }
 ],
 "metadata": {
  "kernelspec": {
   "display_name": "Python 3 (ipykernel)",
   "language": "python",
   "name": "python3"
  },
  "language_info": {
   "codemirror_mode": {
    "name": "ipython",
    "version": 3
   },
   "file_extension": ".py",
   "mimetype": "text/x-python",
   "name": "python",
   "nbconvert_exporter": "python",
   "pygments_lexer": "ipython3",
   "version": "3.10.6"
  }
 },
 "nbformat": 4,
 "nbformat_minor": 5
}
